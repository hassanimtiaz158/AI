{
  "cells": [
    {
      "cell_type": "markdown",
      "metadata": {
        "id": "NDl75WBCFX6D"
      },
      "source": [
        "**<h1>ASSIGNMENT 3</h1>**"
      ]
    },
    {
      "cell_type": "markdown",
      "metadata": {
        "id": "QT4eV1ViDwXb"
      },
      "source": [
        "<h2> Q1. Problem Statement</h2>\n",
        "\n",
        "Design an Information Retrieval System that ranks a collection of headlines based on their relevance to a user's search query. Use the raw term frequency approach to represent headlines(documents) and compute similarity for ranking. \n",
        "\n",
        "After implementation, test your system with at least three different queries and display the ranked results clearly.\n",
        "\n",
        "\n",
        "Dataset:\n",
        "[Headlines Dataset](https://www.kaggle.com/datasets/therohk/million-headlines)\n",
        "\n"
      ]
    },
    {
      "cell_type": "code",
      "execution_count": null,
      "metadata": {},
      "outputs": [],
      "source": []
    },
    {
      "cell_type": "code",
      "execution_count": null,
      "metadata": {
        "id": "l7AG3rQ3JVHT"
      },
      "outputs": [],
      "source": []
    },
    {
      "cell_type": "code",
      "execution_count": null,
      "metadata": {},
      "outputs": [],
      "source": []
    },
    {
      "cell_type": "code",
      "execution_count": null,
      "metadata": {},
      "outputs": [],
      "source": []
    },
    {
      "cell_type": "markdown",
      "metadata": {
        "id": "Rjj799UoGmoh"
      },
      "source": [
        "<h2> Q2. Problem Statement</h2>\n",
        "\n",
        "Enhance your Retrieval System by using TF-IDF weighting instead of raw term frequency. Update the term-document matrix and query representation accordingly, then compute similarity scores and rank the headlines. \n",
        "\n",
        "After implementation, test your system with at least three different queries and display the ranked results clearly.\n"
      ]
    },
    {
      "cell_type": "code",
      "execution_count": null,
      "metadata": {
        "id": "76B9lBVkMZc4"
      },
      "outputs": [],
      "source": []
    },
    {
      "cell_type": "code",
      "execution_count": null,
      "metadata": {
        "id": "j-ThvXDYJKSe"
      },
      "outputs": [],
      "source": []
    },
    {
      "cell_type": "code",
      "execution_count": null,
      "metadata": {
        "id": "l7xGWv_TJt3E"
      },
      "outputs": [],
      "source": []
    },
    {
      "cell_type": "code",
      "execution_count": null,
      "metadata": {
        "id": "VJ3tVHOMJtzu"
      },
      "outputs": [],
      "source": []
    }
  ],
  "metadata": {
    "colab": {
      "provenance": []
    },
    "kernelspec": {
      "display_name": "Python 3",
      "name": "python3"
    },
    "language_info": {
      "name": "python"
    }
  },
  "nbformat": 4,
  "nbformat_minor": 0
}
