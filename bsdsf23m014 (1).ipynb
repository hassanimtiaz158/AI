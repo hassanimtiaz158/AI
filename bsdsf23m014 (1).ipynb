{
  "nbformat": 4,
  "nbformat_minor": 0,
  "metadata": {
    "colab": {
      "provenance": []
    },
    "kernelspec": {
      "name": "python3",
      "display_name": "Python 3"
    },
    "language_info": {
      "name": "python"
    }
  },
  "cells": [
    {
      "cell_type": "code",
      "execution_count": 1,
      "metadata": {
        "colab": {
          "base_uri": "https://localhost:8080/"
        },
        "id": "NNVYv1XxUb6D",
        "outputId": "78cad693-5d55-436b-fa48-1e50d7084864"
      },
      "outputs": [
        {
          "output_type": "stream",
          "name": "stdout",
          "text": [
            "Training Accuracy:  98.8 %\n",
            "Testing Accuracy:  100.0 %\n",
            "2 : Training: 98.4 % , Testing: 100.0 %\n",
            "4 : Training: 99.2 % , Testing: 100.0 %\n"
          ]
        }
      ],
      "source": [
        "import numpy as np\n",
        "import pandas as pd\n",
        "\n",
        "train_X=np.genfromtxt(\"trainX.txt\",delimiter=' ',dtype=int)\n",
        "train_Y=pd.read_csv(\"trainY.txt\",header=None).values.flatten()\n",
        "test_X=np.genfromtxt(\"testX.txt\",delimiter=' ',dtype=int)\n",
        "test_Y=pd.read_csv(\"testY.txt\",header=None).values.flatten()\n",
        "\n",
        "two_train=np.array(train_X[:250,:])\n",
        "four_train=np.array(train_X[250:500,:])\n",
        "\n",
        "prob_two_1=(two_train.sum(axis=0)+1)/(two_train.shape[0]+2)\n",
        "#print(prob_two_1)\n",
        "prob_two_0=1-prob_two_1\n",
        "#print(prob_two_0)\n",
        "\n",
        "prob_four_one=(four_train.sum(axis=0)+1)/(four_train.shape[0]+2)\n",
        "#print(prob_four_one)\n",
        "prob_four_zero=1-prob_four_one\n",
        "#print(prob_four_zero)\n",
        "\n",
        "prob_two=two_train.shape[0]/train_X.shape[0]\n",
        "#print(prob_two)\n",
        "prob_four=four_train.shape[0]/train_X.shape[0]\n",
        "#print(prob_four)\n",
        "\n",
        "def naivebayes(input):\n",
        "    a=[]\n",
        "    for i in input:\n",
        "        log_two=np.log(prob_two)+(np.sum(np.log(prob_two_1[i==1])))+(np.sum(np.log(prob_two_0[i==0])))\n",
        "        log_four=np.log(prob_four)+(np.sum(np.log(prob_four_one[i==1])))+(np.sum(np.log(prob_four_zero[i==0])))\n",
        "        a.append(2 if log_two>log_four else 4)\n",
        "    return np.array(a)\n",
        "pred_trainX=naivebayes(train_X)\n",
        "pred_testX=naivebayes(test_X)\n",
        "#print(pred_trainX)\n",
        "#print(pred_testX)\n",
        "\n",
        "train_accuracy=np.mean(pred_trainX==train_Y)*100\n",
        "test_accuracy=np.mean(pred_testX==test_Y)*100\n",
        "print(\"Training Accuracy: \",train_accuracy,\"%\")\n",
        "print(\"Testing Accuracy: \",test_accuracy,\"%\")\n",
        "\n",
        "for digit in [2, 4]:\n",
        "    train_digit_accuracy = np.mean(pred_trainX[train_Y == digit] == digit) * 100\n",
        "    test_digit_accuracy = np.mean(pred_testX[test_Y == digit] == digit) * 100\n",
        "    print(digit, \": Training:\", train_digit_accuracy,\"% , Testing:\", test_digit_accuracy,\"%\")"
      ]
    }
  ]
}