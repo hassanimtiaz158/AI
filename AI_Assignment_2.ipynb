{
  "nbformat": 4,
  "nbformat_minor": 0,
  "metadata": {
    "colab": {
      "provenance": []
    },
    "kernelspec": {
      "name": "python3",
      "display_name": "Python 3"
    },
    "language_info": {
      "name": "python"
    }
  },
  "cells": [
    {
      "cell_type": "markdown",
      "source": [
        "**<h1>ASSIGNMENT 2</h1>**"
      ],
      "metadata": {
        "id": "NDl75WBCFX6D"
      }
    },
    {
      "cell_type": "markdown",
      "source": [
        "<h2> Q1. Problem Statement</h2>\n",
        "You are required to design AI navigation system for a robot called SmartBot. The robot is placed inside a 2D grid maze and must reach a target (goal) location. The maze contains obstacles, and the SmartBot must intelligently decide where to move.\n",
        "\n",
        "Your task is to implement an AI agent that uses Breadth-First Search (BFS) to:\n",
        "\n",
        "1. Find the shortest path from the start position (S) to the goal (G)\n",
        "2. Mark the path on the grid maze using '\\*'\n",
        "3. Report the total number of steps taken"
      ],
      "metadata": {
        "id": "QT4eV1ViDwXb"
      }
    },
    {
      "cell_type": "markdown",
      "source": [
        "\n",
        "The maze is a grid of characters with the following meaning:\n",
        "\n",
        "\n",
        "```markdown\n",
        "| Symbol | Description              |\n",
        "|--------|--------------------------|\n",
        "| `S`    | Start position (SmartBot)|\n",
        "| `G`    | Goal position            |\n",
        "| `.`    | Walkable path            |\n",
        "| `#`    | Wall (obstacle)          |\n",
        "```\n",
        "\n",
        "\n",
        "SmartBot can move in 4 directions only: up, down, left, right. Diagonal moves are not allowed."
      ],
      "metadata": {
        "id": "Gc8UOiA-EMKM"
      }
    },
    {
      "cell_type": "markdown",
      "source": [
        " **Given Input (maze):**\n",
        "  \n",
        "   \n",
        "    '#', '#', '#', '#', '#', '#', '#'\n",
        "    '#', 'S', '#', '.', '.', '.', '#'\n",
        "    '#', '.', '#', '.', '#', 'G', '#'\n",
        "    '#', '.', '.', '.', '.', '.', '#'\n",
        "    '#', '#', '#', '#', '#', '#', '#'"
      ],
      "metadata": {
        "id": "OuK9s4kOBqSj"
      }
    },
    {
      "cell_type": "code",
      "execution_count": 1,
      "metadata": {
        "id": "1eWMYWz-Ax_2"
      },
      "outputs": [],
      "source": []
    },
    {
      "cell_type": "code",
      "source": [],
      "metadata": {
        "id": "LtFFtxStA4Vr"
      },
      "execution_count": 6,
      "outputs": []
    },
    {
      "cell_type": "code",
      "source": [],
      "metadata": {
        "id": "OCVCXBysF-Ku"
      },
      "execution_count": 14,
      "outputs": []
    },
    {
      "cell_type": "code",
      "source": [],
      "metadata": {
        "id": "l7AG3rQ3JVHT"
      },
      "execution_count": null,
      "outputs": []
    },
    {
      "cell_type": "code",
      "source": [],
      "metadata": {
        "id": "IfbHq2xoJVD2"
      },
      "execution_count": null,
      "outputs": []
    },
    {
      "cell_type": "markdown",
      "source": [
        "<h2> Q2. Problem Statement</h2>\n",
        "\n",
        "You are designing an AI bot to analyze a satellite map of land (1) and water (0) represented as a 2D grid. Your task is to count how many separate land regions (i.e., islands) are present using DFS and also calculate and print the **size of each region** (i.e., how many land cells it contains).\n",
        "\n",
        "**Grid Symbols**\n",
        "\n",
        "\n",
        "```markdown\n",
        "| Symbol | Description         |\n",
        "|--------|---------------------|\n",
        "| `1`    | Land (walkable)     |\n",
        "| `0`    | Water (non-walkable)|\n",
        "\n",
        "```\n",
        "\n"
      ],
      "metadata": {
        "id": "Rjj799UoGmoh"
      }
    },
    {
      "cell_type": "code",
      "source": [],
      "metadata": {
        "id": "76B9lBVkMZc4"
      },
      "execution_count": 14,
      "outputs": []
    },
    {
      "cell_type": "markdown",
      "source": [
        "**Input Grid:**\n",
        "\n",
        "1 1 0 0 1 0\n",
        "\n",
        "1 1 0 1 1 0\n",
        "\n",
        "0 0 0 0 0 0\n",
        "\n",
        "0 0 0 1 1 1\n",
        "\n",
        "0 0 1 1 0 0"
      ],
      "metadata": {
        "id": "uU7_B3GAKula"
      }
    },
    {
      "cell_type": "code",
      "source": [],
      "metadata": {
        "id": "j-ThvXDYJKSe"
      },
      "execution_count": null,
      "outputs": []
    },
    {
      "cell_type": "code",
      "source": [],
      "metadata": {
        "id": "l7xGWv_TJt3E"
      },
      "execution_count": null,
      "outputs": []
    },
    {
      "cell_type": "code",
      "source": [],
      "metadata": {
        "id": "VJ3tVHOMJtzu"
      },
      "execution_count": null,
      "outputs": []
    },
    {
      "cell_type": "code",
      "source": [],
      "metadata": {
        "id": "S-ouqqNnF__i"
      },
      "execution_count": 14,
      "outputs": []
    },
    {
      "cell_type": "code",
      "source": [],
      "metadata": {
        "id": "Pg5JMuURHde0"
      },
      "execution_count": 14,
      "outputs": []
    },
    {
      "cell_type": "code",
      "source": [],
      "metadata": {
        "id": "LCL-j7b3MCPr"
      },
      "execution_count": 14,
      "outputs": []
    }
  ]
}