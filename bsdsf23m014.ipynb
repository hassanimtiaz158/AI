{
  "cells": [
    {
      "cell_type": "markdown",
      "metadata": {
        "id": "NDl75WBCFX6D"
      },
      "source": [
        "**<h1>ASSIGNMENT 3</h1>**"
      ]
    },
    {
      "cell_type": "markdown",
      "metadata": {
        "id": "QT4eV1ViDwXb"
      },
      "source": [
        "<h2> Q1. Problem Statement</h2>\n",
        "\n",
        "Design an Information Retrieval System that ranks a collection of headlines based on their relevance to a user's search query. Use the raw term frequency approach to represent headlines(documents) and compute similarity for ranking. \n",
        "\n",
        "After implementation, test your system with at least three different queries and display the ranked results clearly.\n",
        "\n",
        "\n",
        "Dataset:\n",
        "[Headlines Dataset](https://www.kaggle.com/datasets/therohk/million-headlines)\n",
        "\n"
      ]
    },
    {
      "cell_type": "code",
      "execution_count": null,
      "metadata": {},
      "outputs": [
        {
          "name": "stdout",
          "output_type": "stream",
          "text": [
            "\n",
            "Top results for query: 'air nz strike'\n",
            "Score: 3 | air nz staff in aust strike for pay rise\n",
            "Score: 3 | air nz strike to affect australian travellers\n",
            "Score: 3 | air nz staff to strike\n",
            "\n",
            "Top results for query: 'natural disaster'\n",
            "Score: 2 | natural disaster areas declared\n",
            "Score: 2 | natural disaster areas declared after downpour\n",
            "Score: 2 | amery wont declare drought a natural disaster\n",
            "\n",
            "Top results for query: 'sports championship'\n",
            "Score: 2 | two sports enthusiasts set out to see 365 sports in a year\n",
            "Score: 2 | nsw rugby 7s championship to boost sports popularity\n",
            "Score: 2 | fox sports foi request 30 million sports deal\n"
          ]
        }
      ],
      "source": [
        "import pandas as pd\n",
        "import re\n",
        "from collections import Counter\n",
        "\n",
        "df = pd.read_csv('abcnews-date-text.csv')\n",
        "headlines = df['headline_text']\n",
        "headlines=headlines.astype(str).tolist()\n",
        "\n",
        "def preprocessdata(text):\n",
        "    text = text.lower()\n",
        "    text = re.sub(r'[^\\w\\s]', '', text)\n",
        "    return text.split()\n",
        "\n",
        "tf_vectors = [Counter(preprocessdata(h)) for h in headlines]\n",
        "\n",
        "def rank(query, tf_vectors, headlines, top_n=3):\n",
        "    query_tf = Counter(preprocessdata(query))\n",
        "    scores = []\n",
        "    for tf in tf_vectors:\n",
        "        score = sum(query_tf[word] * tf[word] for word in query_tf)\n",
        "        scores.append(score)\n",
        "    ranked = sorted(zip(headlines, scores), key=lambda x: x[1], reverse=True)\n",
        "    ranked = [item for item in ranked if item[1] > 0]\n",
        "    return ranked[:top_n]\n",
        "\n",
        "queries = [\n",
        "    \"air nz strike\",\n",
        "    \"natural disaster\",\n",
        "    \"sports championship\"\n",
        "]\n",
        "\n",
        "for q in queries:\n",
        "    print(f\"\\nTop results for query: '{q}'\")\n",
        "    results = rank(q, tf_vectors, headlines)\n",
        "    for headline, score in results:\n",
        "        print(f\"Score: {score} | {headline}\")"
      ]
    },
    {
      "cell_type": "markdown",
      "metadata": {
        "id": "Rjj799UoGmoh"
      },
      "source": [
        "<h2> Q2. Problem Statement</h2>\n",
        "\n",
        "Enhance your Retrieval System by using TF-IDF weighting instead of raw term frequency. Update the term-document matrix and query representation accordingly, then compute similarity scores and rank the headlines. \n",
        "\n",
        "After implementation, test your system with at least three different queries and display the ranked results clearly.\n"
      ]
    },
    {
      "cell_type": "code",
      "execution_count": 2,
      "metadata": {
        "id": "76B9lBVkMZc4"
      },
      "outputs": [
        {
          "name": "stdout",
          "output_type": "stream",
          "text": [
            "\n",
            "Top results for query: 'election results'\n",
            "Score: 0.8763 | results of the nsw by election\n",
            "Score: 0.7615 | nauru election results\n",
            "Score: 0.7613 | thailand election results\n",
            "\n",
            "Top results for query: 'man'\n",
            "Score: 1.0000 | man found\n",
            "Score: 0.7186 | man charged after man hunt\n",
            "Score: 0.6852 | man charged over the death of melbourne man\n",
            "\n",
            "Top results for query: 'rudd'\n",
            "Score: 1.0000 | rudd at un\n",
            "Score: 0.7998 | rudd back in australia\n",
            "Score: 0.7581 | rudd an attack on us all\n"
          ]
        }
      ],
      "source": [
        "import pandas as pd\n",
        "from sklearn.feature_extraction.text import TfidfVectorizer\n",
        "\n",
        "df = pd.read_csv('abcnews-date-text.csv')\n",
        "headlines = df['headline_text'].astype(str).tolist()\n",
        "\n",
        "vectorizer = TfidfVectorizer(lowercase=True, stop_words='english')\n",
        "tfidf_matrix = vectorizer.fit_transform(headlines)\n",
        "\n",
        "queries = [\n",
        "    \"election results\",\n",
        "    \"man\",\n",
        "    \"rudd\"\n",
        "]\n",
        "\n",
        "for q in queries:\n",
        "    query_vec = vectorizer.transform([q])\n",
        "    scores = (tfidf_matrix @ query_vec.T).toarray().flatten()\n",
        "    top_indices = scores.argsort()[::-1][:3]\n",
        "    print(f\"\\nTop results for query: '{q}'\")\n",
        "    for idx in top_indices:\n",
        "        if scores[idx] > 0:\n",
        "            print(f\"Score: {scores[idx]:.4f} | {headlines[idx]}\")"
      ]
    }
  ],
  "metadata": {
    "colab": {
      "provenance": []
    },
    "kernelspec": {
      "display_name": "Python 3",
      "name": "python3"
    },
    "language_info": {
      "codemirror_mode": {
        "name": "ipython",
        "version": 3
      },
      "file_extension": ".py",
      "mimetype": "text/x-python",
      "name": "python",
      "nbconvert_exporter": "python",
      "pygments_lexer": "ipython3",
      "version": "3.8.0"
    }
  },
  "nbformat": 4,
  "nbformat_minor": 0
}
