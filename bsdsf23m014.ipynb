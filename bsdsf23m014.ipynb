{
 "cells": [
  {
   "cell_type": "markdown",
   "metadata": {
    "id": "NDl75WBCFX6D"
   },
   "source": [
    "**<h1>ASSIGNMENT 2</h1>**"
   ]
  },
  {
   "cell_type": "markdown",
   "metadata": {
    "id": "QT4eV1ViDwXb"
   },
   "source": [
    "<h2> Q1. Problem Statement</h2>\n",
    "You are required to design AI navigation system for a robot called SmartBot. The robot is placed inside a 2D grid maze and must reach a target (goal) location. The maze contains obstacles, and the SmartBot must intelligently decide where to move.\n",
    "\n",
    "Your task is to implement an AI agent that uses Breadth-First Search (BFS) to:\n",
    "\n",
    "1. Find the shortest path from the start position (S) to the goal (G)\n",
    "2. Mark the path on the grid maze using '\\*'\n",
    "3. Report the total number of steps taken"
   ]
  },
  {
   "cell_type": "markdown",
   "metadata": {
    "id": "Gc8UOiA-EMKM"
   },
   "source": [
    "\n",
    "The maze is a grid of characters with the following meaning:\n",
    "\n",
    "\n",
    "```markdown\n",
    "| Symbol | Description              |\n",
    "|--------|--------------------------|\n",
    "| `S`    | Start position (SmartBot)|\n",
    "| `G`    | Goal position            |\n",
    "| `.`    | Walkable path            |\n",
    "| `#`    | Wall (obstacle)          |\n",
    "```\n",
    "\n",
    "\n",
    "SmartBot can move in 4 directions only: up, down, left, right. Diagonal moves are not allowed."
   ]
  },
  {
   "cell_type": "markdown",
   "metadata": {
    "id": "OuK9s4kOBqSj"
   },
   "source": [
    " **Given Input (maze):**\n",
    "  \n",
    "   \n",
    "    '#', '#', '#', '#', '#', '#', '#'\n",
    "    '#', 'S', '#', '.', '.', '.', '#'\n",
    "    '#', '.', '#', '.', '#', 'G', '#'\n",
    "    '#', '.', '.', '.', '.', '.', '#'\n",
    "    '#', '#', '#', '#', '#', '#', '#'"
   ]
  },
  {
   "cell_type": "code",
   "execution_count": null,
   "metadata": {},
   "outputs": [
    {
     "name": "stdout",
     "output_type": "stream",
     "text": [
      "Solved Maze:\n",
      "# # # # # # #\n",
      "# S # . . . #\n",
      "# * # . # G #\n",
      "# * * * * * #\n",
      "# # # # # # #\n",
      "Path length: 7\n",
      "Path: [(1, 1), (2, 1), (3, 1), (3, 2), (3, 3), (3, 4), (3, 5), (2, 5)]\n"
     ]
    }
   ],
   "source": [
    "from collections import deque\n",
    "\n",
    "class SmartBot:\n",
    "    def __init__(self, maze):\n",
    "        self.maze = maze\n",
    "        self.rows = len(maze)\n",
    "        self.cols = len(maze[0])\n",
    "        self.directions = [(-1,0), (1,0), (0,1), (0,-1)]\n",
    "        \n",
    "        for i in range(self.rows):\n",
    "            for j in range(self.cols):\n",
    "                if maze[i][j] == 'S':\n",
    "                    self.start = (i, j)\n",
    "                \n",
    "                elif maze[i][j] == 'G':\n",
    "                    self.goal = (i, j)\n",
    "                    \n",
    "\n",
    "    def bfs(self):\n",
    "        queue = deque([(self.start, [self.start])])\n",
    "        visited = set()\n",
    "        while queue:\n",
    "            (r, c), path = queue.popleft()\n",
    "            if (r, c) == self.goal:\n",
    "                return path\n",
    "            visited.add((r, c))\n",
    "            for dr, dc in self.directions:\n",
    "                nr, nc = r + dr, c + dc\n",
    "                if 0 <= nr < self.rows and 0 <= nc < self.cols:\n",
    "                    if self.maze[nr][nc] in ('.', 'G') and (nr, nc) not in visited:\n",
    "                        queue.append(((nr, nc), path + [(nr, nc)]))\n",
    "        return None\n",
    "\n",
    "    def applybfs(self):\n",
    "        path = self.bfs()\n",
    "        if path:\n",
    "            for r, c in path[1:-1]: \n",
    "                self.maze[r][c] = '*'\n",
    "            print(\"Solved Maze:\")\n",
    "            for row in self.maze:\n",
    "                print(' '.join(row))\n",
    "            print(\"Path length:\", len(path) - 1)\n",
    "            print(\"Path:\", path)\n",
    "        else:\n",
    "            print(\"No path found.\")\n",
    "\n",
    "maze = [\n",
    "    ['#', '#', '#', '#', '#', '#', '#'],\n",
    "    ['#', 'S', '#', '.', '.', '.', '#'],\n",
    "    ['#', '.', '#', '.', '#', 'G', '#'],\n",
    "    ['#', '.', '.', '.', '.', '.', '#'],\n",
    "    ['#', '#', '#', '#', '#', '#', '#']\n",
    "]\n",
    "\n",
    "bot = SmartBot(maze)\n",
    "bot.applybfs()\n"
   ]
  },
  {
   "cell_type": "markdown",
   "metadata": {
    "id": "Rjj799UoGmoh"
   },
   "source": [
    "<h2> Q2. Problem Statement</h2>\n",
    "\n",
    "You are designing an AI bot to analyze a satellite map of land (1) and water (0) represented as a 2D grid. Your task is to count how many separate land regions (i.e., islands) are present using DFS and also calculate and print the **size of each region** (i.e., how many land cells it contains).\n",
    "\n",
    "**Grid Symbols**\n",
    "\n",
    "\n",
    "```markdown\n",
    "| Symbol | Description         |\n",
    "|--------|---------------------|\n",
    "| `1`    | Land (walkable)     |\n",
    "| `0`    | Water (non-walkable)|\n",
    "\n",
    "```\n",
    "\n"
   ]
  },
  {
   "cell_type": "markdown",
   "metadata": {
    "id": "uU7_B3GAKula"
   },
   "source": [
    "**Input Grid:**\n",
    "\n",
    "1 1 0 0 1 0\n",
    "\n",
    "1 1 0 1 1 0\n",
    "\n",
    "0 0 0 0 0 0\n",
    "\n",
    "0 0 0 1 1 1\n",
    "\n",
    "0 0 1 1 0 0"
   ]
  },
  {
   "cell_type": "code",
   "execution_count": 21,
   "metadata": {
    "id": "j-ThvXDYJKSe"
   },
   "outputs": [
    {
     "name": "stdout",
     "output_type": "stream",
     "text": [
      "No. of islands: 3\n",
      "Island 1 size: 4\n",
      "Island 2 size: 3\n",
      "Island 3 size: 5\n"
     ]
    }
   ],
   "source": [
    "class AIbot:\n",
    "    def __init__(self, grid):\n",
    "        self.grid = grid\n",
    "        self.rows = len(grid)\n",
    "        self.cols = len(grid[0])\n",
    "        self.count = 0\n",
    "        self.sizes = []\n",
    "\n",
    "    def countt(self):\n",
    "        for i in range(self.rows):\n",
    "            for j in range(self.cols):\n",
    "                if self.grid[i][j] == 1:\n",
    "                    size = self.dfs(i, j)\n",
    "                    self.count += 1\n",
    "                    self.sizes.append(size)\n",
    "\n",
    "        print(\"No. of islands:\", self.count)\n",
    "        for i, size in enumerate(self.sizes, 1):\n",
    "            print(f\"Island {i} size: {size}\")\n",
    "\n",
    "    def dfs(self, r, c):\n",
    "        if r < 0 or r >= self.rows or c < 0 or c >= self.cols or self.grid[r][c] == 0:\n",
    "            return 0\n",
    "        \n",
    "        self.grid[r][c] = 0\n",
    "        size = 1\n",
    "        \n",
    "        size += self.dfs(r+1, c)\n",
    "        size += self.dfs(r-1, c)\n",
    "        size += self.dfs(r, c+1)\n",
    "        size += self.dfs(r, c-1)\n",
    "        return size\n",
    "\n",
    "grid = [\n",
    "    [1, 1, 0, 0, 1, 0],\n",
    "    [1, 1, 0, 1, 1, 0],\n",
    "    [0, 0, 0, 0, 0, 0],\n",
    "    [0, 0, 0, 1, 1, 1],\n",
    "    [0, 0, 1, 1, 0, 0]\n",
    "]\n",
    "\n",
    "counter = AIbot([row[:] for row in grid])\n",
    "counter.countt()\n"
   ]
  }
 ],
 "metadata": {
  "colab": {
   "provenance": []
  },
  "kernelspec": {
   "display_name": "Python 3",
   "name": "python3"
  },
  "language_info": {
   "codemirror_mode": {
    "name": "ipython",
    "version": 3
   },
   "file_extension": ".py",
   "mimetype": "text/x-python",
   "name": "python",
   "nbconvert_exporter": "python",
   "pygments_lexer": "ipython3",
   "version": "3.8.0"
  }
 },
 "nbformat": 4,
 "nbformat_minor": 0
}
