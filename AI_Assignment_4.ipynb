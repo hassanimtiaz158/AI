{
  "cells": [
    {
      "cell_type": "markdown",
      "metadata": {
        "id": "NDl75WBCFX6D"
      },
      "source": [
        "**<h1>ASSIGNMENT 4</h1>**"
      ]
    },
    {
      "cell_type": "markdown",
      "metadata": {
        "id": "QT4eV1ViDwXb"
      },
      "source": [
        "<h2>Problem Statement</h2>\n",
        "\n",
        "The 8-Queens problem is a well-known puzzle where you must place eight queens on a standard 8×8 chessboard in such a way that no two queens attack each other. This means:\n",
        "\n",
        "- No two queens can be in the same row,\n",
        "\n",
        "- No two queens can be in the same column,\n",
        "\n",
        "- No two queens can be on the same diagonal.\n",
        "\n",
        "You are required to write a program that solves the 8-Queens problem using <b>Genetic Algorithm</b>.\n",
        "\n",
        "<i>Note: Clearly display the final solution along with relevant information</i>"
      ]
    },
    {
      "cell_type": "code",
      "execution_count": null,
      "metadata": {},
      "outputs": [],
      "source": []
    },
    {
      "cell_type": "code",
      "execution_count": null,
      "metadata": {
        "id": "l7AG3rQ3JVHT"
      },
      "outputs": [],
      "source": []
    },
    {
      "cell_type": "code",
      "execution_count": null,
      "metadata": {
        "id": "VJ3tVHOMJtzu"
      },
      "outputs": [],
      "source": []
    }
  ],
  "metadata": {
    "colab": {
      "provenance": []
    },
    "kernelspec": {
      "display_name": "Python 3",
      "name": "python3"
    },
    "language_info": {
      "name": "python"
    }
  },
  "nbformat": 4,
  "nbformat_minor": 0
}
